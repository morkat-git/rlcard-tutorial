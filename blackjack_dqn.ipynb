{
  "cells": [
    {
      "cell_type": "markdown",
      "metadata": {
        "colab_type": "text",
        "id": "view-in-github"
      },
      "source": [
        "<a href=\"https://colab.research.google.com/github/mia1996/rlcard-tutoirial/blob/master/blackjack_dqn.ipynb\" target=\"_parent\"><img src=\"https://colab.research.google.com/assets/colab-badge.svg\" alt=\"Open In Colab\"/></a>"
      ]
    },
    {
      "cell_type": "markdown",
      "metadata": {
        "id": "miBl4S8JARzX"
      },
      "source": [
        "\n",
        "\n",
        "# <a href='https://github.com/datamllab/rlcard'> <center> <img src='https://miro.medium.com/max/1000/1*_9abDpNTM9Cbsd2HEXYm9Q.png' width=500 class='center' /></a> \n",
        "\n",
        "## **Deep-Q Learning on Blackjack**\n",
        "This example is to use Deep-Q learning to train an agent on Blackjack. We aim to use this example to show how reinforcement learning algorithms can be developed and applied in our toolkit. To be self-contained, we first install RLCard."
      ]
    },
    {
      "cell_type": "code",
      "execution_count": 1,
      "metadata": {
        "colab": {
          "base_uri": "https://localhost:8080/"
        },
        "id": "zQ8CiXAJjQGi",
        "outputId": "bda614ff-35d4-4ba3-d171-374c8142af0d"
      },
      "outputs": [],
      "source": [
        "#!pip3 install 'rlcard[torch]'"
      ]
    },
    {
      "cell_type": "markdown",
      "metadata": {
        "id": "2bt-JVoXyTwM"
      },
      "source": [
        "Now we import `rlcard` and `DQNAgent`. The `DQNAgent` will learn how to win the game."
      ]
    },
    {
      "cell_type": "code",
      "execution_count": 2,
      "metadata": {
        "id": "4_A_Br3Jj0xW"
      },
      "outputs": [],
      "source": [
        "import rlcard\n",
        "from rlcard.agents import DQNAgent"
      ]
    },
    {
      "cell_type": "markdown",
      "metadata": {
        "id": "N2ltkfinYmiU"
      },
      "source": [
        "Let's create the Blackjack environment and take a look at it."
      ]
    },
    {
      "cell_type": "code",
      "execution_count": 3,
      "metadata": {
        "colab": {
          "base_uri": "https://localhost:8080/"
        },
        "id": "l_8Kuf47kghG",
        "outputId": "177c5020-2885-465b-9648-40c1ddcd6c06"
      },
      "outputs": [
        {
          "name": "stdout",
          "output_type": "stream",
          "text": [
            "Number of actions: 2\n",
            "Number of players: 1\n",
            "Shape of state: [[2]]\n",
            "Shape of action: [None]\n"
          ]
        }
      ],
      "source": [
        "env = rlcard.make(\"blackjack\")\n",
        "print(\"Number of actions:\", env.num_actions)\n",
        "print(\"Number of players:\", env.num_players)\n",
        "print(\"Shape of state:\", env.state_shape)\n",
        "print(\"Shape of action:\", env.action_shape)"
      ]
    },
    {
      "cell_type": "markdown",
      "metadata": {
        "id": "W2vJYyyqzVj3"
      },
      "source": [
        "Blackjack is a very simple game with only two possible actions. There is only one player. It's time for us to train our DQN to master this game! We first create a DQNAgent."
      ]
    },
    {
      "cell_type": "code",
      "execution_count": 4,
      "metadata": {
        "id": "8bqfMncnJTYU"
      },
      "outputs": [],
      "source": [
        "agent = DQNAgent(\n",
        "    num_actions=env.num_actions,\n",
        "    state_shape=env.state_shape[0],\n",
        "    mlp_layers=[64,64],\n",
        ")"
      ]
    },
    {
      "cell_type": "markdown",
      "metadata": {
        "id": "tJVGcqYhzvyG"
      },
      "source": [
        "Here, we use a 64-64 deep neural network to learn. Then we pass the DQNAgent to the environment."
      ]
    },
    {
      "cell_type": "code",
      "execution_count": 5,
      "metadata": {
        "id": "5JEwJb_Oztut"
      },
      "outputs": [],
      "source": [
        "env.set_agents([agent])"
      ]
    },
    {
      "cell_type": "markdown",
      "metadata": {
        "id": "zy_sHLKf0TVl"
      },
      "source": [
        "Now we are ready to train! We first import some useful classes and functions for training."
      ]
    },
    {
      "cell_type": "code",
      "execution_count": 6,
      "metadata": {
        "id": "GhgGYyick13x"
      },
      "outputs": [],
      "source": [
        "from rlcard.utils import (\n",
        "    tournament,\n",
        "    reorganize,\n",
        "    Logger,\n",
        "    plot_curve,\n",
        ")"
      ]
    },
    {
      "cell_type": "markdown",
      "metadata": {
        "id": "w2bT6ETj04Hq"
      },
      "source": [
        "Then start the training and log the performance with our `Logger`. The script below will train DQN for 1000 epochs (i.e., 1000 games). Usually, the agent will become stronger if trained longer."
      ]
    },
    {
      "cell_type": "code",
      "execution_count": 7,
      "metadata": {
        "colab": {
          "base_uri": "https://localhost:8080/"
        },
        "id": "rYAj8Q22k5e2",
        "outputId": "e43b29b2-553a-4c17-e3b3-166910af9c42"
      },
      "outputs": [
        {
          "name": "stdout",
          "output_type": "stream",
          "text": [
            "\n",
            "----------------------------------------\n",
            "  episode      |  1\n",
            "  reward       |  -0.7406\n",
            "----------------------------------------\n",
            "\n",
            "----------------------------------------\n",
            "  episode      |  17828\n",
            "  reward       |  -0.7379\n",
            "----------------------------------------\n",
            "\n",
            "----------------------------------------\n",
            "  episode      |  35681\n",
            "  reward       |  -0.746\n",
            "----------------------------------------\n",
            "\n",
            "----------------------------------------\n",
            "  episode      |  53452\n",
            "  reward       |  -0.7286\n",
            "----------------------------------------\n",
            "\n",
            "----------------------------------------\n",
            "  episode      |  71394\n",
            "  reward       |  -0.7325\n",
            "----------------------------------------\n",
            "\n",
            "----------------------------------------\n",
            "  episode      |  89163\n",
            "  reward       |  -0.7438\n",
            "----------------------------------------\n",
            "\n",
            "----------------------------------------\n",
            "  episode      |  107014\n",
            "  reward       |  -0.7347\n",
            "----------------------------------------\n",
            "\n",
            "----------------------------------------\n",
            "  episode      |  124718\n",
            "  reward       |  -0.7441\n",
            "----------------------------------------\n",
            "\n",
            "----------------------------------------\n",
            "  episode      |  142535\n",
            "  reward       |  -0.7409\n",
            "----------------------------------------\n",
            "\n",
            "----------------------------------------\n",
            "  episode      |  160365\n",
            "  reward       |  -0.7405\n",
            "----------------------------------------\n",
            "\n",
            "Logs saved in experiments/leduc_holdem_dqn_result/\n"
          ]
        }
      ],
      "source": [
        "with Logger(\"experiments/leduc_holdem_dqn_result/\") as logger:\n",
        "    for episode in range(50):\n",
        "\n",
        "        # Generate data from the environment\n",
        "        trajectories, payoffs = env.run(is_training=True)\n",
        "\n",
        "        # Reorganaize the data to be state, action, reward, next_state, done\n",
        "        trajectories = reorganize(trajectories, payoffs)\n",
        "\n",
        "        # Feed transitions into agent memory, and train the agent\n",
        "        for ts in trajectories[0]:\n",
        "            agent.feed(ts)\n",
        "\n",
        "        # Evaluate the performance.\n",
        "        if episode % 5 == 0:\n",
        "            logger.log_performance(\n",
        "                env.timestep,\n",
        "                tournament(\n",
        "                    env,\n",
        "                    10000,\n",
        "                )[0]\n",
        "            )\n",
        "\n",
        "    # Get the paths\n",
        "    csv_path, fig_path = logger.csv_path, logger.fig_path"
      ]
    },
    {
      "cell_type": "markdown",
      "metadata": {
        "id": "rbIiQS3K2R0u"
      },
      "source": [
        "Now we plot the learning curves to monitor how the agent gets improved!"
      ]
    },
    {
      "cell_type": "code",
      "execution_count": 8,
      "metadata": {
        "colab": {
          "base_uri": "https://localhost:8080/",
          "height": 279
        },
        "id": "06n2QSTDIqb0",
        "outputId": "4536c8af-e4ca-489e-c7fd-4d32c839f81c"
      },
      "outputs": [
        {
          "data": {
            "image/png": "[encoded data removed]",
            "text/plain": [
              "<Figure size 640x480 with 1 Axes>"
            ]
          },
          "metadata": {},
          "output_type": "display_data"
        }
      ],
      "source": [
        "plot_curve(csv_path, fig_path, \"DQN\")"
      ]
    },
    {
      "cell_type": "markdown",
      "metadata": {
        "id": "rtJ7xdSIaPw3"
      },
      "source": [
        "You can find that the agent achieves an increasingly better performance with more training. All the logs and the model weights are saved in `experiments/leduc_holdem_dqn_result/`. Now you have your trained DQN agent on Blackjack!"
      ]
    }
  ],
  "metadata": {
    "colab": {
      "collapsed_sections": [],
      "include_colab_link": true,
      "name": "Copy of blackjack_dqn.ipynb",
      "provenance": []
    },
    "kernelspec": {
      "display_name": "Python 3",
      "name": "python3"
    },
    "language_info": {
      "codemirror_mode": {
        "name": "ipython",
        "version": 3
      },
      "file_extension": ".py",
      "mimetype": "text/x-python",
      "name": "python",
      "nbconvert_exporter": "python",
      "pygments_lexer": "ipython3",
      "version": "3.10.14"
    }
  },
  "nbformat": 4,
  "nbformat_minor": 0
}
